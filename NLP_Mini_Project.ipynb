{
  "metadata": {
    "kernelspec": {
      "language": "python",
      "display_name": "Python 3",
      "name": "python3"
    },
    "language_info": {
      "name": "python",
      "version": "3.10.12",
      "mimetype": "text/x-python",
      "codemirror_mode": {
        "name": "ipython",
        "version": 3
      },
      "pygments_lexer": "ipython3",
      "nbconvert_exporter": "python",
      "file_extension": ".py"
    },
    "kaggle": {
      "accelerator": "nvidiaTeslaT4",
      "dataSources": [
        {
          "sourceId": 7843142,
          "sourceType": "datasetVersion",
          "datasetId": 4598363
        }
      ],
      "dockerImageVersionId": 30918,
      "isInternetEnabled": true,
      "language": "python",
      "sourceType": "notebook",
      "isGpuEnabled": true
    },
    "colab": {
      "name": "NLP Mini Project",
      "provenance": [],
      "include_colab_link": true
    }
  },
  "nbformat_minor": 0,
  "nbformat": 4,
  "cells": [
    {
      "cell_type": "markdown",
      "metadata": {
        "id": "view-in-github",
        "colab_type": "text"
      },
      "source": [
        "<a href=\"https://colab.research.google.com/github/akashb1504/Hybrid-Email-spam-detection/blob/main/NLP_Mini_Project.ipynb\" target=\"_parent\"><img src=\"https://colab.research.google.com/assets/colab-badge.svg\" alt=\"Open In Colab\"/></a>"
      ]
    },
    {
      "source": [
        "# IMPORTANT: RUN THIS CELL IN ORDER TO IMPORT YOUR KAGGLE DATA SOURCES,\n",
        "# THEN FEEL FREE TO DELETE THIS CELL.\n",
        "# NOTE: THIS NOTEBOOK ENVIRONMENT DIFFERS FROM KAGGLE'S PYTHON\n",
        "# ENVIRONMENT SO THERE MAY BE MISSING LIBRARIES USED BY YOUR\n",
        "# NOTEBOOK.\n",
        "import kagglehub\n",
        "meruvulikith_190k_spam_ham_email_dataset_for_classification_path = kagglehub.dataset_download('meruvulikith/190k-spam-ham-email-dataset-for-classification')\n",
        "\n",
        "print('Data source import complete.')\n"
      ],
      "metadata": {
        "id": "qPNmxXHmdotE"
      },
      "cell_type": "code",
      "outputs": [],
      "execution_count": null
    },
    {
      "cell_type": "code",
      "source": [
        "import pandas as pd\n",
        "import numpy as np\n",
        "import nltk\n",
        "import re\n",
        "from nltk.corpus import stopwords\n",
        "from nltk.tokenize import word_tokenize\n",
        "from sklearn.model_selection import train_test_split\n",
        "from imblearn.under_sampling import RandomUnderSampler\n",
        "from sklearn.feature_extraction.text import TfidfVectorizer\n",
        "from tensorflow.keras.preprocessing.text import Tokenizer\n",
        "from tensorflow.keras.preprocessing.sequence import pad_sequences\n",
        "from tensorflow.keras.preprocessing.text import Tokenizer\n",
        "from sklearn.ensemble import RandomForestClassifier\n",
        "from sklearn.metrics import confusion_matrix\n",
        "from sklearn.metrics import accuracy_score, classification_report\n",
        "\n",
        "\n",
        "nltk.download('stopwords')\n",
        "nltk.download('punkt')"
      ],
      "metadata": {
        "trusted": true,
        "execution": {
          "iopub.status.busy": "2025-04-06T13:29:45.737127Z",
          "iopub.execute_input": "2025-04-06T13:29:45.737426Z",
          "iopub.status.idle": "2025-04-06T13:29:45.746751Z",
          "shell.execute_reply.started": "2025-04-06T13:29:45.737403Z",
          "shell.execute_reply": "2025-04-06T13:29:45.745946Z"
        },
        "jupyter": {
          "outputs_hidden": true
        },
        "collapsed": true,
        "id": "Nq1obBAudotG",
        "outputId": "197dd3f9-73f0-4c3c-c2a0-37a04d46dc41"
      },
      "outputs": [
        {
          "name": "stdout",
          "text": "[nltk_data] Downloading package stopwords to /usr/share/nltk_data...\n[nltk_data]   Package stopwords is already up-to-date!\n[nltk_data] Downloading package punkt to /usr/share/nltk_data...\n[nltk_data]   Package punkt is already up-to-date!\n",
          "output_type": "stream"
        },
        {
          "execution_count": 16,
          "output_type": "execute_result",
          "data": {
            "text/plain": "True"
          },
          "metadata": {}
        }
      ],
      "execution_count": null
    },
    {
      "cell_type": "code",
      "source": [
        "df=pd.read_csv(\"/kaggle/input/190k-spam-ham-email-dataset-for-classification/spam_Emails_data.csv\")"
      ],
      "metadata": {
        "trusted": true,
        "execution": {
          "iopub.status.busy": "2025-04-06T13:15:41.833154Z",
          "iopub.execute_input": "2025-04-06T13:15:41.833807Z",
          "iopub.status.idle": "2025-04-06T13:15:50.072819Z",
          "shell.execute_reply.started": "2025-04-06T13:15:41.833781Z",
          "shell.execute_reply": "2025-04-06T13:15:50.072177Z"
        },
        "id": "4gE7sD6sdotI"
      },
      "outputs": [],
      "execution_count": null
    },
    {
      "cell_type": "code",
      "source": [
        "df"
      ],
      "metadata": {
        "trusted": true,
        "execution": {
          "iopub.status.busy": "2025-04-06T13:15:50.073843Z",
          "iopub.execute_input": "2025-04-06T13:15:50.074162Z",
          "iopub.status.idle": "2025-04-06T13:15:50.10467Z",
          "shell.execute_reply.started": "2025-04-06T13:15:50.074138Z",
          "shell.execute_reply": "2025-04-06T13:15:50.103981Z"
        },
        "id": "v51cjblGdotI",
        "outputId": "0c854c6d-1652-4ccb-e761-f3224338f8a9"
      },
      "outputs": [
        {
          "execution_count": 3,
          "output_type": "execute_result",
          "data": {
            "text/plain": "       label                                               text\n0       Spam  viiiiiiagraaaa\\nonly for the ones that want to...\n1        Ham  got ice thought look az original message ice o...\n2       Spam  yo ur wom an ne eds an escapenumber in ch ma n...\n3       Spam  start increasing your odds of success & live s...\n4        Ham  author jra date escapenumber escapenumber esca...\n...      ...                                                ...\n193847   Ham  on escapenumber escapenumber escapenumber rob ...\n193848  Spam  we have everything you need escapelong cialesc...\n193849   Ham  hi quick question say i have a date variable i...\n193850  Spam  thank you for your loan request which we recie...\n193851   Ham  this is an automatically generated delivery st...\n\n[193852 rows x 2 columns]",
            "text/html": "<div>\n<style scoped>\n    .dataframe tbody tr th:only-of-type {\n        vertical-align: middle;\n    }\n\n    .dataframe tbody tr th {\n        vertical-align: top;\n    }\n\n    .dataframe thead th {\n        text-align: right;\n    }\n</style>\n<table border=\"1\" class=\"dataframe\">\n  <thead>\n    <tr style=\"text-align: right;\">\n      <th></th>\n      <th>label</th>\n      <th>text</th>\n    </tr>\n  </thead>\n  <tbody>\n    <tr>\n      <th>0</th>\n      <td>Spam</td>\n      <td>viiiiiiagraaaa\\nonly for the ones that want to...</td>\n    </tr>\n    <tr>\n      <th>1</th>\n      <td>Ham</td>\n      <td>got ice thought look az original message ice o...</td>\n    </tr>\n    <tr>\n      <th>2</th>\n      <td>Spam</td>\n      <td>yo ur wom an ne eds an escapenumber in ch ma n...</td>\n    </tr>\n    <tr>\n      <th>3</th>\n      <td>Spam</td>\n      <td>start increasing your odds of success &amp; live s...</td>\n    </tr>\n    <tr>\n      <th>4</th>\n      <td>Ham</td>\n      <td>author jra date escapenumber escapenumber esca...</td>\n    </tr>\n    <tr>\n      <th>...</th>\n      <td>...</td>\n      <td>...</td>\n    </tr>\n    <tr>\n      <th>193847</th>\n      <td>Ham</td>\n      <td>on escapenumber escapenumber escapenumber rob ...</td>\n    </tr>\n    <tr>\n      <th>193848</th>\n      <td>Spam</td>\n      <td>we have everything you need escapelong cialesc...</td>\n    </tr>\n    <tr>\n      <th>193849</th>\n      <td>Ham</td>\n      <td>hi quick question say i have a date variable i...</td>\n    </tr>\n    <tr>\n      <th>193850</th>\n      <td>Spam</td>\n      <td>thank you for your loan request which we recie...</td>\n    </tr>\n    <tr>\n      <th>193851</th>\n      <td>Ham</td>\n      <td>this is an automatically generated delivery st...</td>\n    </tr>\n  </tbody>\n</table>\n<p>193852 rows × 2 columns</p>\n</div>"
          },
          "metadata": {}
        }
      ],
      "execution_count": null
    },
    {
      "cell_type": "code",
      "source": [
        "df.info()"
      ],
      "metadata": {
        "trusted": true,
        "execution": {
          "iopub.status.busy": "2025-04-06T13:15:50.106469Z",
          "iopub.execute_input": "2025-04-06T13:15:50.106724Z",
          "iopub.status.idle": "2025-04-06T13:15:50.164826Z",
          "shell.execute_reply.started": "2025-04-06T13:15:50.106702Z",
          "shell.execute_reply": "2025-04-06T13:15:50.163814Z"
        },
        "id": "FWPWXCpFdotI",
        "outputId": "a2f67234-d3ba-4c8a-f2da-36325deec14d"
      },
      "outputs": [
        {
          "name": "stdout",
          "text": "<class 'pandas.core.frame.DataFrame'>\nRangeIndex: 193852 entries, 0 to 193851\nData columns (total 2 columns):\n #   Column  Non-Null Count   Dtype \n---  ------  --------------   ----- \n 0   label   193852 non-null  object\n 1   text    193850 non-null  object\ndtypes: object(2)\nmemory usage: 3.0+ MB\n",
          "output_type": "stream"
        }
      ],
      "execution_count": null
    },
    {
      "cell_type": "code",
      "source": [
        "df = df.dropna(subset=['text'])"
      ],
      "metadata": {
        "trusted": true,
        "execution": {
          "iopub.status.busy": "2025-04-06T13:15:50.165667Z",
          "iopub.execute_input": "2025-04-06T13:15:50.165978Z",
          "iopub.status.idle": "2025-04-06T13:15:50.204486Z",
          "shell.execute_reply.started": "2025-04-06T13:15:50.165924Z",
          "shell.execute_reply": "2025-04-06T13:15:50.203818Z"
        },
        "id": "RLWDdb15dotJ"
      },
      "outputs": [],
      "execution_count": null
    },
    {
      "cell_type": "code",
      "source": [
        "df.shape"
      ],
      "metadata": {
        "trusted": true,
        "execution": {
          "iopub.status.busy": "2025-04-06T13:15:50.20514Z",
          "iopub.execute_input": "2025-04-06T13:15:50.205355Z",
          "iopub.status.idle": "2025-04-06T13:15:50.20979Z",
          "shell.execute_reply.started": "2025-04-06T13:15:50.205335Z",
          "shell.execute_reply": "2025-04-06T13:15:50.209038Z"
        },
        "id": "AXKwBaiqdotJ",
        "outputId": "fb4b4909-5224-4809-c7eb-68e0330a1ee4"
      },
      "outputs": [
        {
          "execution_count": 6,
          "output_type": "execute_result",
          "data": {
            "text/plain": "(193850, 2)"
          },
          "metadata": {}
        }
      ],
      "execution_count": null
    },
    {
      "cell_type": "markdown",
      "source": [
        "# Text Cleaning (Lowercase, Remove Punctuations, Remove Stopwords)"
      ],
      "metadata": {
        "id": "5JeijvPSdotJ"
      }
    },
    {
      "cell_type": "code",
      "source": [
        "stop_words = set(stopwords.words('english'))\n",
        "def clean_text(text):\n",
        "    text = re.sub(r'\\n', ' ', text)\n",
        "    text = re.sub(r'[^a-zA-Z\\s]', '', text)\n",
        "    tokens = text.split()\n",
        "    filtered_tokens = [word for word in tokens if word not in stop_words]\n",
        "    return ' '.join(filtered_tokens)\n",
        "\n",
        "df = df.copy()\n",
        "df['clean_text'] = df['text'].apply(clean_text)"
      ],
      "metadata": {
        "trusted": true,
        "execution": {
          "iopub.status.busy": "2025-04-06T13:15:53.306714Z",
          "iopub.execute_input": "2025-04-06T13:15:53.307014Z",
          "iopub.status.idle": "2025-04-06T13:16:06.249839Z",
          "shell.execute_reply.started": "2025-04-06T13:15:53.30699Z",
          "shell.execute_reply": "2025-04-06T13:16:06.249206Z"
        },
        "id": "dOa4gAtWdotK"
      },
      "outputs": [],
      "execution_count": null
    },
    {
      "cell_type": "markdown",
      "source": [
        "# Label Encoding"
      ],
      "metadata": {
        "id": "4DkyYYEVdotL"
      }
    },
    {
      "cell_type": "code",
      "source": [
        "df['label_encoded'] = df['label'].map({'Ham': 0, 'Spam': 1})"
      ],
      "metadata": {
        "trusted": true,
        "execution": {
          "iopub.status.busy": "2025-04-06T13:16:12.318481Z",
          "iopub.execute_input": "2025-04-06T13:16:12.318817Z",
          "iopub.status.idle": "2025-04-06T13:16:12.336976Z",
          "shell.execute_reply.started": "2025-04-06T13:16:12.318791Z",
          "shell.execute_reply": "2025-04-06T13:16:12.336214Z"
        },
        "id": "Zj1HxEtPdotM"
      },
      "outputs": [],
      "execution_count": null
    },
    {
      "cell_type": "code",
      "source": [
        "df"
      ],
      "metadata": {
        "trusted": true,
        "execution": {
          "iopub.status.busy": "2025-04-06T13:16:14.751142Z",
          "iopub.execute_input": "2025-04-06T13:16:14.75142Z",
          "iopub.status.idle": "2025-04-06T13:16:14.76185Z",
          "shell.execute_reply.started": "2025-04-06T13:16:14.751399Z",
          "shell.execute_reply": "2025-04-06T13:16:14.760922Z"
        },
        "id": "Q6GzEFT_dotM",
        "outputId": "fc51acb5-e2a7-470a-f041-a3b7a84c3dfd"
      },
      "outputs": [
        {
          "execution_count": 9,
          "output_type": "execute_result",
          "data": {
            "text/plain": "       label                                               text  \\\n0       Spam  viiiiiiagraaaa\\nonly for the ones that want to...   \n1        Ham  got ice thought look az original message ice o...   \n2       Spam  yo ur wom an ne eds an escapenumber in ch ma n...   \n3       Spam  start increasing your odds of success & live s...   \n4        Ham  author jra date escapenumber escapenumber esca...   \n...      ...                                                ...   \n193847   Ham  on escapenumber escapenumber escapenumber rob ...   \n193848  Spam  we have everything you need escapelong cialesc...   \n193849   Ham  hi quick question say i have a date variable i...   \n193850  Spam  thank you for your loan request which we recie...   \n193851   Ham  this is an automatically generated delivery st...   \n\n                                               clean_text  label_encoded  \n0       viiiiiiagraaaa ones want make scream prodigy s...              1  \n1       got ice thought look az original message ice o...              0  \n2       yo ur wom ne eds escapenumber ch n b e th n f ...              1  \n3       start increasing odds success live sexually he...              1  \n4       author jra date escapenumber escapenumber esca...              0  \n...                                                   ...            ...  \n193847  escapenumber escapenumber escapenumber rob dix...              0  \n193848  everything need escapelong cialescapenumbers s...              1  \n193849  hi quick question say date variable data frame...              0  \n193850  thank loan request recieved escapenumber escap...              1  \n193851  automatically generated delivery status notifi...              0  \n\n[193850 rows x 4 columns]",
            "text/html": "<div>\n<style scoped>\n    .dataframe tbody tr th:only-of-type {\n        vertical-align: middle;\n    }\n\n    .dataframe tbody tr th {\n        vertical-align: top;\n    }\n\n    .dataframe thead th {\n        text-align: right;\n    }\n</style>\n<table border=\"1\" class=\"dataframe\">\n  <thead>\n    <tr style=\"text-align: right;\">\n      <th></th>\n      <th>label</th>\n      <th>text</th>\n      <th>clean_text</th>\n      <th>label_encoded</th>\n    </tr>\n  </thead>\n  <tbody>\n    <tr>\n      <th>0</th>\n      <td>Spam</td>\n      <td>viiiiiiagraaaa\\nonly for the ones that want to...</td>\n      <td>viiiiiiagraaaa ones want make scream prodigy s...</td>\n      <td>1</td>\n    </tr>\n    <tr>\n      <th>1</th>\n      <td>Ham</td>\n      <td>got ice thought look az original message ice o...</td>\n      <td>got ice thought look az original message ice o...</td>\n      <td>0</td>\n    </tr>\n    <tr>\n      <th>2</th>\n      <td>Spam</td>\n      <td>yo ur wom an ne eds an escapenumber in ch ma n...</td>\n      <td>yo ur wom ne eds escapenumber ch n b e th n f ...</td>\n      <td>1</td>\n    </tr>\n    <tr>\n      <th>3</th>\n      <td>Spam</td>\n      <td>start increasing your odds of success &amp; live s...</td>\n      <td>start increasing odds success live sexually he...</td>\n      <td>1</td>\n    </tr>\n    <tr>\n      <th>4</th>\n      <td>Ham</td>\n      <td>author jra date escapenumber escapenumber esca...</td>\n      <td>author jra date escapenumber escapenumber esca...</td>\n      <td>0</td>\n    </tr>\n    <tr>\n      <th>...</th>\n      <td>...</td>\n      <td>...</td>\n      <td>...</td>\n      <td>...</td>\n    </tr>\n    <tr>\n      <th>193847</th>\n      <td>Ham</td>\n      <td>on escapenumber escapenumber escapenumber rob ...</td>\n      <td>escapenumber escapenumber escapenumber rob dix...</td>\n      <td>0</td>\n    </tr>\n    <tr>\n      <th>193848</th>\n      <td>Spam</td>\n      <td>we have everything you need escapelong cialesc...</td>\n      <td>everything need escapelong cialescapenumbers s...</td>\n      <td>1</td>\n    </tr>\n    <tr>\n      <th>193849</th>\n      <td>Ham</td>\n      <td>hi quick question say i have a date variable i...</td>\n      <td>hi quick question say date variable data frame...</td>\n      <td>0</td>\n    </tr>\n    <tr>\n      <th>193850</th>\n      <td>Spam</td>\n      <td>thank you for your loan request which we recie...</td>\n      <td>thank loan request recieved escapenumber escap...</td>\n      <td>1</td>\n    </tr>\n    <tr>\n      <th>193851</th>\n      <td>Ham</td>\n      <td>this is an automatically generated delivery st...</td>\n      <td>automatically generated delivery status notifi...</td>\n      <td>0</td>\n    </tr>\n  </tbody>\n</table>\n<p>193850 rows × 4 columns</p>\n</div>"
          },
          "metadata": {}
        }
      ],
      "execution_count": null
    },
    {
      "cell_type": "code",
      "source": [
        "label_counts = df['label_encoded'].value_counts()\n",
        "print(label_counts)\n"
      ],
      "metadata": {
        "trusted": true,
        "execution": {
          "iopub.status.busy": "2025-04-06T13:16:20.406577Z",
          "iopub.execute_input": "2025-04-06T13:16:20.406895Z",
          "iopub.status.idle": "2025-04-06T13:16:20.416709Z",
          "shell.execute_reply.started": "2025-04-06T13:16:20.406867Z",
          "shell.execute_reply": "2025-04-06T13:16:20.416007Z"
        },
        "id": "SYj-AEDzdotN",
        "outputId": "1ffd0f4a-6d82-4587-f856-0b9c55404d60"
      },
      "outputs": [
        {
          "name": "stdout",
          "text": "label_encoded\n0    102159\n1     91691\nName: count, dtype: int64\n",
          "output_type": "stream"
        }
      ],
      "execution_count": null
    },
    {
      "cell_type": "markdown",
      "source": [
        "# TF-IDF Vectorization (For Shallow Models)"
      ],
      "metadata": {
        "id": "5706KMAddotN"
      }
    },
    {
      "cell_type": "code",
      "source": [
        "tfidf_vectorizer = TfidfVectorizer(max_features=5000)\n",
        "X_tfidf = tfidf_vectorizer.fit_transform(df['clean_text']).toarray()"
      ],
      "metadata": {
        "trusted": true,
        "execution": {
          "iopub.status.busy": "2025-04-06T13:20:10.092468Z",
          "iopub.execute_input": "2025-04-06T13:20:10.092776Z",
          "iopub.status.idle": "2025-04-06T13:20:46.939439Z",
          "shell.execute_reply.started": "2025-04-06T13:20:10.092755Z",
          "shell.execute_reply": "2025-04-06T13:20:46.93869Z"
        },
        "id": "cvthSsYDdotN"
      },
      "outputs": [],
      "execution_count": null
    },
    {
      "cell_type": "markdown",
      "source": [
        "# Tokenization and Padding (For LSTM)"
      ],
      "metadata": {
        "id": "TAnE2HoVdotO"
      }
    },
    {
      "cell_type": "code",
      "source": [
        "tokenizer = Tokenizer(num_words=5000)\n",
        "tokenizer.fit_on_texts(df['clean_text'])\n",
        "\n",
        "X_seq = tokenizer.texts_to_sequences(df['clean_text'])\n",
        "X_seq_padded = pad_sequences(X_seq, maxlen=100)\n"
      ],
      "metadata": {
        "trusted": true,
        "execution": {
          "iopub.status.busy": "2025-04-06T13:20:47.06805Z",
          "iopub.execute_input": "2025-04-06T13:20:47.068315Z",
          "iopub.status.idle": "2025-04-06T13:21:26.956865Z",
          "shell.execute_reply.started": "2025-04-06T13:20:47.068294Z",
          "shell.execute_reply": "2025-04-06T13:21:26.956026Z"
        },
        "id": "S8Ux_LRXdotO"
      },
      "outputs": [],
      "execution_count": null
    },
    {
      "cell_type": "markdown",
      "source": [
        "# Train / Validation / Test Split"
      ],
      "metadata": {
        "id": "nVbK6Db9dotO"
      }
    },
    {
      "cell_type": "code",
      "source": [
        "y = df['label_encoded'].values\n",
        "\n",
        "# For RF\n",
        "X_temp_tfidf, X_test_tfidf, y_temp, y_test = train_test_split(X_tfidf, y, test_size=0.3, stratify=y, random_state=42)\n",
        "X_train_tfidf, X_val_tfidf, y_train, y_val = train_test_split(X_temp_tfidf, y_temp, test_size=0.4286, stratify=y_temp, random_state=42)\n",
        "\n",
        "# For LSTM\n",
        "X_temp_seq, X_test_seq, _, _ = train_test_split(X_seq_padded, y, test_size=0.3, stratify=y, random_state=42)\n",
        "X_train_seq, X_val_seq, _, _ = train_test_split(X_temp_seq, y_temp, test_size=0.4286, stratify=y_temp, random_state=42)\n"
      ],
      "metadata": {
        "trusted": true,
        "execution": {
          "iopub.status.busy": "2025-04-06T13:21:26.958138Z",
          "iopub.execute_input": "2025-04-06T13:21:26.958496Z",
          "iopub.status.idle": "2025-04-06T13:21:31.335092Z",
          "shell.execute_reply.started": "2025-04-06T13:21:26.958463Z",
          "shell.execute_reply": "2025-04-06T13:21:31.334236Z"
        },
        "id": "mNZ-vtRZdotO"
      },
      "outputs": [],
      "execution_count": null
    },
    {
      "cell_type": "markdown",
      "source": [
        "# Train Random Forest on TF-IDF"
      ],
      "metadata": {
        "id": "MDnYLP9DdotP"
      }
    },
    {
      "cell_type": "code",
      "source": [
        "# Vectorize using top 3000 frequent words\n",
        "tfidf_vectorizer = TfidfVectorizer(max_features=3000)\n",
        "X_tfidf = tfidf_vectorizer.fit_transform(df['clean_text'])\n",
        "\n",
        "\n",
        "rf_model = RandomForestClassifier(n_estimators=100, criterion='gini', random_state=42)\n",
        "rf_model.fit(X_train_tfidf, y_train)\n",
        "\n",
        "val_probs = rf_model.predict_proba(X_val_tfidf) #for confidence verifier\n",
        "val_preds = rf_model.predict(X_val_tfidf)\n"
      ],
      "metadata": {
        "trusted": true,
        "execution": {
          "iopub.status.busy": "2025-04-06T13:23:53.852027Z",
          "iopub.execute_input": "2025-04-06T13:23:53.852438Z",
          "iopub.status.idle": "2025-04-06T13:29:13.269224Z",
          "shell.execute_reply.started": "2025-04-06T13:23:53.852407Z",
          "shell.execute_reply": "2025-04-06T13:29:13.26852Z"
        },
        "id": "7543w1ekdotP"
      },
      "outputs": [],
      "execution_count": null
    },
    {
      "cell_type": "code",
      "source": [
        "print(\"Validation Accuracy:\", accuracy_score(y_val, val_preds))\n",
        "print(\"\\nClassification Report:\\n\", classification_report(y_val, val_preds))"
      ],
      "metadata": {
        "trusted": true,
        "execution": {
          "iopub.status.busy": "2025-04-06T13:29:51.221418Z",
          "iopub.execute_input": "2025-04-06T13:29:51.221705Z",
          "iopub.status.idle": "2025-04-06T13:29:51.303351Z",
          "shell.execute_reply.started": "2025-04-06T13:29:51.221684Z",
          "shell.execute_reply": "2025-04-06T13:29:51.302439Z"
        },
        "id": "Wu-j0o2OdotP",
        "outputId": "53fd0140-4939-435c-dfdc-499e3c917fcb"
      },
      "outputs": [
        {
          "name": "stdout",
          "text": "Validation Accuracy: 0.9783180591138086\n\nClassification Report:\n               precision    recall  f1-score   support\n\n           0       0.98      0.98      0.98     30650\n           1       0.98      0.97      0.98     27509\n\n    accuracy                           0.98     58159\n   macro avg       0.98      0.98      0.98     58159\nweighted avg       0.98      0.98      0.98     58159\n\n",
          "output_type": "stream"
        }
      ],
      "execution_count": null
    },
    {
      "cell_type": "code",
      "source": [
        "cm = confusion_matrix(y_val, val_preds)\n",
        "TN, FP, FN, TP = cm.ravel()\n",
        "\n",
        "\n",
        "TPR = TP / (TP + FN)\n",
        "TNR = TN / (TN + FP)\n",
        "\n",
        "\n",
        "print(f\"\\n True Positive Rate (TPR): {TPR:.4f}\")\n",
        "print(f\" True Negative Rate (TNR): {TNR:.4f}\")\n",
        "\n"
      ],
      "metadata": {
        "trusted": true,
        "execution": {
          "iopub.status.busy": "2025-04-06T13:30:45.072812Z",
          "iopub.execute_input": "2025-04-06T13:30:45.073188Z",
          "iopub.status.idle": "2025-04-06T13:30:45.087276Z",
          "shell.execute_reply.started": "2025-04-06T13:30:45.073157Z",
          "shell.execute_reply": "2025-04-06T13:30:45.086485Z"
        },
        "id": "2FGIBZYsdotQ",
        "outputId": "6311059c-c15f-433f-be9d-fe2e823f5cb2"
      },
      "outputs": [
        {
          "name": "stdout",
          "text": "\n True Positive Rate (TPR): 0.9735\n True Negative Rate (TNR): 0.9826\n",
          "output_type": "stream"
        }
      ],
      "execution_count": null
    },
    {
      "cell_type": "markdown",
      "source": [
        "# Confidence Verifier"
      ],
      "metadata": {
        "id": "_aMBCeVNdotQ"
      }
    },
    {
      "cell_type": "code",
      "source": [
        "confidence_threshold = 0.8\n"
      ],
      "metadata": {
        "trusted": true,
        "execution": {
          "iopub.status.busy": "2025-04-06T13:36:15.587118Z",
          "iopub.execute_input": "2025-04-06T13:36:15.587481Z",
          "iopub.status.idle": "2025-04-06T13:36:15.590986Z",
          "shell.execute_reply.started": "2025-04-06T13:36:15.58745Z",
          "shell.execute_reply": "2025-04-06T13:36:15.590126Z"
        },
        "id": "CSEyx5ekdotQ"
      },
      "outputs": [],
      "execution_count": null
    },
    {
      "cell_type": "code",
      "source": [
        "val_probs = rf_model.predict_proba(X_val_tfidf)\n",
        "\n",
        "# Predicted class and its confidence (max probability from the RF)\n",
        "val_pred_classes = np.argmax(val_probs, axis=1)\n",
        "val_pred_confidence = np.max(val_probs, axis=1)\n"
      ],
      "metadata": {
        "trusted": true,
        "execution": {
          "iopub.status.busy": "2025-04-06T13:36:27.496503Z",
          "iopub.execute_input": "2025-04-06T13:36:27.496822Z",
          "iopub.status.idle": "2025-04-06T13:36:33.28982Z",
          "shell.execute_reply.started": "2025-04-06T13:36:27.496794Z",
          "shell.execute_reply": "2025-04-06T13:36:33.28891Z"
        },
        "id": "JM0IobQQdotQ"
      },
      "outputs": [],
      "execution_count": null
    },
    {
      "cell_type": "code",
      "source": [
        "# Create masks\n",
        "accepted_mask = val_pred_confidence >= confidence_threshold\n",
        "rejected_mask = ~accepted_mask\n",
        "\n",
        "# Accepted predictions (confident)\n",
        "X_val_accepted = X_val_tfidf[accepted_mask]\n",
        "y_val_accepted = y_val[accepted_mask]\n",
        "preds_accepted = val_pred_classes[accepted_mask]\n",
        "\n",
        "# Rejected predictions (for LSTM)\n",
        "X_val_rejected_tfidf = X_val_tfidf[rejected_mask]\n",
        "X_val_rejected_seq = X_val_seq[rejected_mask]  # This assumes you've got padded sequences\n",
        "y_val_rejected = y_val[rejected_mask]\n",
        "\n"
      ],
      "metadata": {
        "trusted": true,
        "execution": {
          "iopub.status.busy": "2025-04-06T13:37:21.053169Z",
          "iopub.execute_input": "2025-04-06T13:37:21.053462Z",
          "iopub.status.idle": "2025-04-06T13:37:21.731763Z",
          "shell.execute_reply.started": "2025-04-06T13:37:21.053439Z",
          "shell.execute_reply": "2025-04-06T13:37:21.730751Z"
        },
        "id": "Ky9arvH9dotQ"
      },
      "outputs": [],
      "execution_count": null
    },
    {
      "cell_type": "code",
      "source": [
        "print(f\"Total validation samples: {len(y_val)}\")\n",
        "print(f\"Accepted by Shallow Classifier: {len(y_val_accepted)}\")\n",
        "print(f\"Rejected (goes to Deep Classifier): {len(y_val_rejected)}\")\n"
      ],
      "metadata": {
        "trusted": true,
        "execution": {
          "iopub.status.busy": "2025-04-06T13:37:23.466166Z",
          "iopub.execute_input": "2025-04-06T13:37:23.466482Z",
          "iopub.status.idle": "2025-04-06T13:37:23.470691Z",
          "shell.execute_reply.started": "2025-04-06T13:37:23.466454Z",
          "shell.execute_reply": "2025-04-06T13:37:23.469864Z"
        },
        "id": "Etwyw_3LdotR",
        "outputId": "91028c45-e5b9-4d3d-82b7-487795841e5e"
      },
      "outputs": [
        {
          "name": "stdout",
          "text": "Total validation samples: 58159\nAccepted by Shallow Classifier: 51247\nRejected (goes to Deep Classifier): 6912\n",
          "output_type": "stream"
        }
      ],
      "execution_count": null
    },
    {
      "cell_type": "code",
      "source": [
        "import numpy as np\n",
        "\n",
        "# Check class distribution in rejected validation samples\n",
        "unique, counts = np.unique(y_val_rejected, return_counts=True)\n",
        "rejected_class_distribution = dict(zip(unique, counts))\n",
        "\n",
        "print(\" Rejected Validation Set Class Distribution:\")\n",
        "for label, count in rejected_class_distribution.items():\n",
        "    print(f\"Class {label}: {count}\")\n"
      ],
      "metadata": {
        "trusted": true,
        "execution": {
          "iopub.status.busy": "2025-04-06T13:49:40.176433Z",
          "iopub.execute_input": "2025-04-06T13:49:40.176743Z",
          "iopub.status.idle": "2025-04-06T13:49:40.183117Z",
          "shell.execute_reply.started": "2025-04-06T13:49:40.17672Z",
          "shell.execute_reply": "2025-04-06T13:49:40.182373Z"
        },
        "id": "SJvlX-AOdotR",
        "outputId": "d69c2743-69de-4bd3-d593-bd7bf654b2bc"
      },
      "outputs": [
        {
          "name": "stdout",
          "text": "📊 Rejected Validation Set Class Distribution:\nClass 0: 2873\nClass 1: 4039\n",
          "output_type": "stream"
        }
      ],
      "execution_count": null
    },
    {
      "cell_type": "code",
      "source": [
        "from sklearn.utils import resample\n",
        "import numpy as np\n",
        "\n",
        "# Separate class indices\n",
        "class_0_indices = np.where(y_val_rejected == 0)[0]\n",
        "class_1_indices = np.where(y_val_rejected == 1)[0]\n",
        "\n",
        "# Undersample class 1 to match class 0\n",
        "undersampled_class_1_indices = resample(\n",
        "    class_1_indices,\n",
        "    replace=False,\n",
        "    n_samples=len(class_0_indices),\n",
        "    random_state=42\n",
        ")\n",
        "\n",
        "# Combine and shuffle\n",
        "balanced_indices = np.concatenate([class_0_indices, undersampled_class_1_indices])\n",
        "np.random.shuffle(balanced_indices)\n",
        "\n",
        "# Apply to sequences and labels\n",
        "X_val_rejected_seq_balanced = X_val_rejected_seq[balanced_indices]\n",
        "y_val_rejected_balanced = y_val_rejected[balanced_indices]\n"
      ],
      "metadata": {
        "trusted": true,
        "execution": {
          "iopub.status.busy": "2025-04-06T13:53:05.711756Z",
          "iopub.execute_input": "2025-04-06T13:53:05.712096Z",
          "iopub.status.idle": "2025-04-06T13:53:05.719017Z",
          "shell.execute_reply.started": "2025-04-06T13:53:05.712066Z",
          "shell.execute_reply": "2025-04-06T13:53:05.718089Z"
        },
        "id": "SRg3kFbCdotS"
      },
      "outputs": [],
      "execution_count": null
    },
    {
      "cell_type": "code",
      "source": [
        "import numpy as np\n",
        "\n",
        "# Check class distribution\n",
        "class_counts = np.bincount(y_val_rejected_balanced)\n",
        "print(f\"Class 0 (Ham): {class_counts[0]}\")\n",
        "print(f\"Class 1 (Spam): {class_counts[1]}\")\n"
      ],
      "metadata": {
        "trusted": true,
        "execution": {
          "iopub.status.busy": "2025-04-06T13:53:45.631437Z",
          "iopub.execute_input": "2025-04-06T13:53:45.631726Z",
          "iopub.status.idle": "2025-04-06T13:53:45.637298Z",
          "shell.execute_reply.started": "2025-04-06T13:53:45.631704Z",
          "shell.execute_reply": "2025-04-06T13:53:45.636466Z"
        },
        "id": "2j6hm3B6dotS",
        "outputId": "0c732b38-0936-4488-dfa1-5e5ca6074318"
      },
      "outputs": [
        {
          "name": "stdout",
          "text": "Class 0 (Ham): 2873\nClass 1 (Spam): 2873\n",
          "output_type": "stream"
        }
      ],
      "execution_count": null
    },
    {
      "cell_type": "markdown",
      "source": [
        "# LSTM"
      ],
      "metadata": {
        "id": "WUf7X6FBdotS"
      }
    },
    {
      "cell_type": "code",
      "source": [
        "from tensorflow.keras.models import Sequential\n",
        "from tensorflow.keras.layers import Embedding, LSTM, Dense, Dropout\n",
        "from tensorflow.keras.optimizers import RMSprop\n",
        "\n",
        "# Create the LSTM model\n",
        "lstm_model = Sequential()\n",
        "lstm_model.add(Embedding(input_dim=30000, output_dim=128))\n",
        "lstm_model.add(LSTM(64))\n",
        "lstm_model.add(Dense(256, activation='relu'))\n",
        "lstm_model.add(Dropout(0.5))\n",
        "lstm_model.add(Dense(1, activation='sigmoid'))  # Binary classification\n",
        "\n",
        "# Compile the model\n",
        "optimizer = RMSprop(learning_rate=0.001, rho=0.9)\n",
        "lstm_model.compile(loss='binary_crossentropy', optimizer=optimizer, metrics=['accuracy'])\n",
        "\n",
        "lstm_model.fit(\n",
        "    X_val_rejected_seq_balanced,\n",
        "    y_val_rejected_balanced,\n",
        "    epochs=50,\n",
        "    batch_size=128,\n",
        "    validation_split=0.1,\n",
        "    verbose=1\n",
        ")\n"
      ],
      "metadata": {
        "trusted": true,
        "execution": {
          "iopub.status.busy": "2025-04-06T14:02:39.345109Z",
          "iopub.execute_input": "2025-04-06T14:02:39.345439Z",
          "iopub.status.idle": "2025-04-06T14:03:00.318247Z",
          "shell.execute_reply.started": "2025-04-06T14:02:39.345415Z",
          "shell.execute_reply": "2025-04-06T14:03:00.317385Z"
        },
        "id": "kVDkTX_2dotT",
        "outputId": "78aafab3-18f7-4bb4-9466-f4246ebaee3c"
      },
      "outputs": [
        {
          "name": "stdout",
          "text": "Epoch 1/50\n\u001b[1m41/41\u001b[0m \u001b[32m━━━━━━━━━━━━━━━━━━━━\u001b[0m\u001b[37m\u001b[0m \u001b[1m2s\u001b[0m 17ms/step - accuracy: 0.5187 - loss: 0.6915 - val_accuracy: 0.5704 - val_loss: 0.6761\nEpoch 2/50\n\u001b[1m41/41\u001b[0m \u001b[32m━━━━━━━━━━━━━━━━━━━━\u001b[0m\u001b[37m\u001b[0m \u001b[1m0s\u001b[0m 9ms/step - accuracy: 0.6106 - loss: 0.6607 - val_accuracy: 0.7078 - val_loss: 0.5816\nEpoch 3/50\n\u001b[1m41/41\u001b[0m \u001b[32m━━━━━━━━━━━━━━━━━━━━\u001b[0m\u001b[37m\u001b[0m \u001b[1m0s\u001b[0m 9ms/step - accuracy: 0.7645 - loss: 0.5165 - val_accuracy: 0.7965 - val_loss: 0.4440\nEpoch 4/50\n\u001b[1m41/41\u001b[0m \u001b[32m━━━━━━━━━━━━━━━━━━━━\u001b[0m\u001b[37m\u001b[0m \u001b[1m0s\u001b[0m 9ms/step - accuracy: 0.8660 - loss: 0.3330 - val_accuracy: 0.7843 - val_loss: 0.4682\nEpoch 5/50\n\u001b[1m41/41\u001b[0m \u001b[32m━━━━━━━━━━━━━━━━━━━━\u001b[0m\u001b[37m\u001b[0m \u001b[1m0s\u001b[0m 9ms/step - accuracy: 0.9017 - loss: 0.2530 - val_accuracy: 0.8313 - val_loss: 0.3977\nEpoch 6/50\n\u001b[1m41/41\u001b[0m \u001b[32m━━━━━━━━━━━━━━━━━━━━\u001b[0m\u001b[37m\u001b[0m \u001b[1m0s\u001b[0m 9ms/step - accuracy: 0.9329 - loss: 0.1766 - val_accuracy: 0.8226 - val_loss: 0.4290\nEpoch 7/50\n\u001b[1m41/41\u001b[0m \u001b[32m━━━━━━━━━━━━━━━━━━━━\u001b[0m\u001b[37m\u001b[0m \u001b[1m0s\u001b[0m 9ms/step - accuracy: 0.9473 - loss: 0.1474 - val_accuracy: 0.8452 - val_loss: 0.4732\nEpoch 8/50\n\u001b[1m41/41\u001b[0m \u001b[32m━━━━━━━━━━━━━━━━━━━━\u001b[0m\u001b[37m\u001b[0m \u001b[1m0s\u001b[0m 9ms/step - accuracy: 0.9605 - loss: 0.1031 - val_accuracy: 0.8296 - val_loss: 0.5202\nEpoch 9/50\n\u001b[1m41/41\u001b[0m \u001b[32m━━━━━━━━━━━━━━━━━━━━\u001b[0m\u001b[37m\u001b[0m \u001b[1m0s\u001b[0m 9ms/step - accuracy: 0.9680 - loss: 0.0822 - val_accuracy: 0.8452 - val_loss: 0.5862\nEpoch 10/50\n\u001b[1m41/41\u001b[0m \u001b[32m━━━━━━━━━━━━━━━━━━━━\u001b[0m\u001b[37m\u001b[0m \u001b[1m0s\u001b[0m 9ms/step - accuracy: 0.9777 - loss: 0.0645 - val_accuracy: 0.8330 - val_loss: 0.5961\nEpoch 11/50\n\u001b[1m41/41\u001b[0m \u001b[32m━━━━━━━━━━━━━━━━━━━━\u001b[0m\u001b[37m\u001b[0m \u001b[1m0s\u001b[0m 9ms/step - accuracy: 0.9731 - loss: 0.0755 - val_accuracy: 0.8435 - val_loss: 0.7709\nEpoch 12/50\n\u001b[1m41/41\u001b[0m \u001b[32m━━━━━━━━━━━━━━━━━━━━\u001b[0m\u001b[37m\u001b[0m \u001b[1m0s\u001b[0m 9ms/step - accuracy: 0.9767 - loss: 0.0643 - val_accuracy: 0.8365 - val_loss: 0.9775\nEpoch 13/50\n\u001b[1m41/41\u001b[0m \u001b[32m━━━━━━━━━━━━━━━━━━━━\u001b[0m\u001b[37m\u001b[0m \u001b[1m0s\u001b[0m 9ms/step - accuracy: 0.9787 - loss: 0.0647 - val_accuracy: 0.8383 - val_loss: 0.7572\nEpoch 14/50\n\u001b[1m41/41\u001b[0m \u001b[32m━━━━━━━━━━━━━━━━━━━━\u001b[0m\u001b[37m\u001b[0m \u001b[1m0s\u001b[0m 9ms/step - accuracy: 0.9875 - loss: 0.0378 - val_accuracy: 0.8417 - val_loss: 0.7468\nEpoch 15/50\n\u001b[1m41/41\u001b[0m \u001b[32m━━━━━━━━━━━━━━━━━━━━\u001b[0m\u001b[37m\u001b[0m \u001b[1m0s\u001b[0m 9ms/step - accuracy: 0.9904 - loss: 0.0263 - val_accuracy: 0.8487 - val_loss: 0.9034\nEpoch 16/50\n\u001b[1m41/41\u001b[0m \u001b[32m━━━━━━━━━━━━━━━━━━━━\u001b[0m\u001b[37m\u001b[0m \u001b[1m0s\u001b[0m 9ms/step - accuracy: 0.9906 - loss: 0.0253 - val_accuracy: 0.8470 - val_loss: 0.9697\nEpoch 17/50\n\u001b[1m41/41\u001b[0m \u001b[32m━━━━━━━━━━━━━━━━━━━━\u001b[0m\u001b[37m\u001b[0m \u001b[1m0s\u001b[0m 9ms/step - accuracy: 0.9938 - loss: 0.0172 - val_accuracy: 0.8435 - val_loss: 0.9742\nEpoch 18/50\n\u001b[1m41/41\u001b[0m \u001b[32m━━━━━━━━━━━━━━━━━━━━\u001b[0m\u001b[37m\u001b[0m \u001b[1m0s\u001b[0m 9ms/step - accuracy: 0.9896 - loss: 0.0280 - val_accuracy: 0.8435 - val_loss: 0.9010\nEpoch 19/50\n\u001b[1m41/41\u001b[0m \u001b[32m━━━━━━━━━━━━━━━━━━━━\u001b[0m\u001b[37m\u001b[0m \u001b[1m0s\u001b[0m 10ms/step - accuracy: 0.9942 - loss: 0.0171 - val_accuracy: 0.8348 - val_loss: 1.0405\nEpoch 20/50\n\u001b[1m41/41\u001b[0m \u001b[32m━━━━━━━━━━━━━━━━━━━━\u001b[0m\u001b[37m\u001b[0m \u001b[1m0s\u001b[0m 10ms/step - accuracy: 0.9957 - loss: 0.0127 - val_accuracy: 0.8313 - val_loss: 0.8716\nEpoch 21/50\n\u001b[1m41/41\u001b[0m \u001b[32m━━━━━━━━━━━━━━━━━━━━\u001b[0m\u001b[37m\u001b[0m \u001b[1m0s\u001b[0m 9ms/step - accuracy: 0.9923 - loss: 0.0182 - val_accuracy: 0.8574 - val_loss: 0.9475\nEpoch 22/50\n\u001b[1m41/41\u001b[0m \u001b[32m━━━━━━━━━━━━━━━━━━━━\u001b[0m\u001b[37m\u001b[0m \u001b[1m0s\u001b[0m 9ms/step - accuracy: 0.9942 - loss: 0.0151 - val_accuracy: 0.8261 - val_loss: 1.2484\nEpoch 23/50\n\u001b[1m41/41\u001b[0m \u001b[32m━━━━━━━━━━━━━━━━━━━━\u001b[0m\u001b[37m\u001b[0m \u001b[1m0s\u001b[0m 9ms/step - accuracy: 0.9960 - loss: 0.0163 - val_accuracy: 0.8435 - val_loss: 1.0828\nEpoch 24/50\n\u001b[1m41/41\u001b[0m \u001b[32m━━━━━━━━━━━━━━━━━━━━\u001b[0m\u001b[37m\u001b[0m \u001b[1m0s\u001b[0m 9ms/step - accuracy: 0.9961 - loss: 0.0089 - val_accuracy: 0.8452 - val_loss: 1.1182\nEpoch 25/50\n\u001b[1m41/41\u001b[0m \u001b[32m━━━━━━━━━━━━━━━━━━━━\u001b[0m\u001b[37m\u001b[0m \u001b[1m0s\u001b[0m 9ms/step - accuracy: 0.9945 - loss: 0.0171 - val_accuracy: 0.8383 - val_loss: 1.2876\nEpoch 26/50\n\u001b[1m41/41\u001b[0m \u001b[32m━━━━━━━━━━━━━━━━━━━━\u001b[0m\u001b[37m\u001b[0m \u001b[1m0s\u001b[0m 9ms/step - accuracy: 0.9939 - loss: 0.0394 - val_accuracy: 0.8435 - val_loss: 1.1808\nEpoch 27/50\n\u001b[1m41/41\u001b[0m \u001b[32m━━━━━━━━━━━━━━━━━━━━\u001b[0m\u001b[37m\u001b[0m \u001b[1m0s\u001b[0m 9ms/step - accuracy: 0.9956 - loss: 0.0139 - val_accuracy: 0.8417 - val_loss: 1.4051\nEpoch 28/50\n\u001b[1m41/41\u001b[0m \u001b[32m━━━━━━━━━━━━━━━━━━━━\u001b[0m\u001b[37m\u001b[0m \u001b[1m0s\u001b[0m 9ms/step - accuracy: 0.9957 - loss: 0.0140 - val_accuracy: 0.8417 - val_loss: 1.0545\nEpoch 29/50\n\u001b[1m41/41\u001b[0m \u001b[32m━━━━━━━━━━━━━━━━━━━━\u001b[0m\u001b[37m\u001b[0m \u001b[1m0s\u001b[0m 9ms/step - accuracy: 0.9959 - loss: 0.0112 - val_accuracy: 0.8522 - val_loss: 1.2238\nEpoch 30/50\n\u001b[1m41/41\u001b[0m \u001b[32m━━━━━━━━━━━━━━━━━━━━\u001b[0m\u001b[37m\u001b[0m \u001b[1m0s\u001b[0m 9ms/step - accuracy: 0.9936 - loss: 0.0188 - val_accuracy: 0.8557 - val_loss: 1.2323\nEpoch 31/50\n\u001b[1m41/41\u001b[0m \u001b[32m━━━━━━━━━━━━━━━━━━━━\u001b[0m\u001b[37m\u001b[0m \u001b[1m0s\u001b[0m 9ms/step - accuracy: 0.9970 - loss: 0.0071 - val_accuracy: 0.8522 - val_loss: 1.3034\nEpoch 32/50\n\u001b[1m41/41\u001b[0m \u001b[32m━━━━━━━━━━━━━━━━━━━━\u001b[0m\u001b[37m\u001b[0m \u001b[1m0s\u001b[0m 9ms/step - accuracy: 0.9953 - loss: 0.0125 - val_accuracy: 0.8609 - val_loss: 1.0939\nEpoch 33/50\n\u001b[1m41/41\u001b[0m \u001b[32m━━━━━━━━━━━━━━━━━━━━\u001b[0m\u001b[37m\u001b[0m \u001b[1m0s\u001b[0m 9ms/step - accuracy: 0.9976 - loss: 0.0090 - val_accuracy: 0.8643 - val_loss: 1.1241\nEpoch 34/50\n\u001b[1m41/41\u001b[0m \u001b[32m━━━━━━━━━━━━━━━━━━━━\u001b[0m\u001b[37m\u001b[0m \u001b[1m0s\u001b[0m 9ms/step - accuracy: 0.9974 - loss: 0.0068 - val_accuracy: 0.8626 - val_loss: 1.2876\nEpoch 35/50\n\u001b[1m41/41\u001b[0m \u001b[32m━━━━━━━━━━━━━━━━━━━━\u001b[0m\u001b[37m\u001b[0m \u001b[1m0s\u001b[0m 9ms/step - accuracy: 0.9952 - loss: 0.0207 - val_accuracy: 0.8574 - val_loss: 1.1640\nEpoch 36/50\n\u001b[1m41/41\u001b[0m \u001b[32m━━━━━━━━━━━━━━━━━━━━\u001b[0m\u001b[37m\u001b[0m \u001b[1m0s\u001b[0m 9ms/step - accuracy: 0.9981 - loss: 0.0040 - val_accuracy: 0.8539 - val_loss: 1.3077\nEpoch 37/50\n\u001b[1m41/41\u001b[0m \u001b[32m━━━━━━━━━━━━━━━━━━━━\u001b[0m\u001b[37m\u001b[0m \u001b[1m0s\u001b[0m 9ms/step - accuracy: 0.9930 - loss: 0.0248 - val_accuracy: 0.8539 - val_loss: 1.2265\nEpoch 38/50\n\u001b[1m41/41\u001b[0m \u001b[32m━━━━━━━━━━━━━━━━━━━━\u001b[0m\u001b[37m\u001b[0m \u001b[1m0s\u001b[0m 9ms/step - accuracy: 0.9979 - loss: 0.0059 - val_accuracy: 0.8591 - val_loss: 1.2516\nEpoch 39/50\n\u001b[1m41/41\u001b[0m \u001b[32m━━━━━━━━━━━━━━━━━━━━\u001b[0m\u001b[37m\u001b[0m \u001b[1m0s\u001b[0m 9ms/step - accuracy: 0.9983 - loss: 0.0035 - val_accuracy: 0.8696 - val_loss: 1.2888\nEpoch 40/50\n\u001b[1m41/41\u001b[0m \u001b[32m━━━━━━━━━━━━━━━━━━━━\u001b[0m\u001b[37m\u001b[0m \u001b[1m0s\u001b[0m 9ms/step - accuracy: 0.9990 - loss: 0.0049 - val_accuracy: 0.8557 - val_loss: 1.2181\nEpoch 41/50\n\u001b[1m41/41\u001b[0m \u001b[32m━━━━━━━━━━━━━━━━━━━━\u001b[0m\u001b[37m\u001b[0m \u001b[1m0s\u001b[0m 9ms/step - accuracy: 0.9975 - loss: 0.0042 - val_accuracy: 0.8400 - val_loss: 1.3843\nEpoch 42/50\n\u001b[1m41/41\u001b[0m \u001b[32m━━━━━━━━━━━━━━━━━━━━\u001b[0m\u001b[37m\u001b[0m \u001b[1m0s\u001b[0m 9ms/step - accuracy: 0.9955 - loss: 0.0197 - val_accuracy: 0.8574 - val_loss: 1.2168\nEpoch 43/50\n\u001b[1m41/41\u001b[0m \u001b[32m━━━━━━━━━━━━━━━━━━━━\u001b[0m\u001b[37m\u001b[0m \u001b[1m0s\u001b[0m 9ms/step - accuracy: 0.9993 - loss: 0.0029 - val_accuracy: 0.8504 - val_loss: 1.4535\nEpoch 44/50\n\u001b[1m41/41\u001b[0m \u001b[32m━━━━━━━━━━━━━━━━━━━━\u001b[0m\u001b[37m\u001b[0m \u001b[1m0s\u001b[0m 9ms/step - accuracy: 0.9988 - loss: 0.0039 - val_accuracy: 0.8470 - val_loss: 1.6267\nEpoch 45/50\n\u001b[1m41/41\u001b[0m \u001b[32m━━━━━━━━━━━━━━━━━━━━\u001b[0m\u001b[37m\u001b[0m \u001b[1m0s\u001b[0m 9ms/step - accuracy: 0.9984 - loss: 0.0044 - val_accuracy: 0.8470 - val_loss: 1.4479\nEpoch 46/50\n\u001b[1m41/41\u001b[0m \u001b[32m━━━━━━━━━━━━━━━━━━━━\u001b[0m\u001b[37m\u001b[0m \u001b[1m0s\u001b[0m 9ms/step - accuracy: 0.9918 - loss: 0.0299 - val_accuracy: 0.8400 - val_loss: 1.5135\nEpoch 47/50\n\u001b[1m41/41\u001b[0m \u001b[32m━━━━━━━━━━━━━━━━━━━━\u001b[0m\u001b[37m\u001b[0m \u001b[1m0s\u001b[0m 9ms/step - accuracy: 0.9961 - loss: 0.0078 - val_accuracy: 0.8609 - val_loss: 1.2441\nEpoch 48/50\n\u001b[1m41/41\u001b[0m \u001b[32m━━━━━━━━━━━━━━━━━━━━\u001b[0m\u001b[37m\u001b[0m \u001b[1m0s\u001b[0m 8ms/step - accuracy: 0.9994 - loss: 0.0026 - val_accuracy: 0.8574 - val_loss: 1.3795\nEpoch 49/50\n\u001b[1m41/41\u001b[0m \u001b[32m━━━━━━━━━━━━━━━━━━━━\u001b[0m\u001b[37m\u001b[0m \u001b[1m0s\u001b[0m 9ms/step - accuracy: 0.9970 - loss: 0.0078 - val_accuracy: 0.8400 - val_loss: 1.3284\nEpoch 50/50\n\u001b[1m41/41\u001b[0m \u001b[32m━━━━━━━━━━━━━━━━━━━━\u001b[0m\u001b[37m\u001b[0m \u001b[1m0s\u001b[0m 9ms/step - accuracy: 0.9987 - loss: 0.0043 - val_accuracy: 0.8470 - val_loss: 1.4600\n",
          "output_type": "stream"
        },
        {
          "execution_count": 40,
          "output_type": "execute_result",
          "data": {
            "text/plain": "<keras.src.callbacks.history.History at 0x7c5705f165f0>"
          },
          "metadata": {}
        }
      ],
      "execution_count": null
    },
    {
      "cell_type": "code",
      "source": [
        "# LSTM Predict\n",
        "lstm_probs = lstm_model.predict(X_val_rejected_seq)\n",
        "lstm_pred_classes = (lstm_probs >= 0.5).astype(int).reshape(-1)\n",
        "\n",
        "# Confidence threshold (same as paper or RF)\n",
        "lstm_confidence_threshold = 0.8\n",
        "lstm_pred_confidence = lstm_probs.reshape(-1)\n",
        "\n",
        "# Filter only high-confidence predictions from LSTM\n",
        "lstm_accepted_mask = lstm_pred_confidence >= lstm_confidence_threshold\n",
        "\n",
        "# Final LSTM predictions and corresponding true labels\n",
        "lstm_final_preds = lstm_pred_classes[lstm_accepted_mask]\n",
        "y_lstm_final = y_val_rejected[lstm_accepted_mask]\n"
      ],
      "metadata": {
        "trusted": true,
        "execution": {
          "iopub.status.busy": "2025-04-06T14:06:53.509901Z",
          "iopub.execute_input": "2025-04-06T14:06:53.510291Z",
          "iopub.status.idle": "2025-04-06T14:06:54.199061Z",
          "shell.execute_reply.started": "2025-04-06T14:06:53.510262Z",
          "shell.execute_reply": "2025-04-06T14:06:54.198378Z"
        },
        "id": "PWrrvgh4dotT",
        "outputId": "f4d4ac65-5ca0-44e9-dc43-4463fe10c184"
      },
      "outputs": [
        {
          "name": "stdout",
          "text": "\u001b[1m216/216\u001b[0m \u001b[32m━━━━━━━━━━━━━━━━━━━━\u001b[0m\u001b[37m\u001b[0m \u001b[1m1s\u001b[0m 3ms/step\n",
          "output_type": "stream"
        }
      ],
      "execution_count": null
    },
    {
      "cell_type": "code",
      "source": [
        "from sklearn.metrics import accuracy_score, classification_report, confusion_matrix\n",
        "\n",
        "lstm_probs = lstm_model.predict(X_val_rejected_seq)\n",
        "lstm_pred_classes = (lstm_probs >= 0.5).astype(int).reshape(-1)\n",
        "\n",
        "# Metrics\n",
        "print(\" LSTM Accuracy on Rejected Samples:\", accuracy_score(y_val_rejected, lstm_pred_classes))\n",
        "print(\"\\n LSTM Classification Report on Rejected Samples:\")\n",
        "print(classification_report(y_val_rejected, lstm_pred_classes, zero_division=0))\n",
        "\n",
        "cm = confusion_matrix(y_val_rejected, lstm_pred_classes)\n",
        "TN, FP, FN, TP = cm.ravel()\n",
        "\n",
        "TPR = TP / (TP + FN) if (TP + FN) != 0 else 0\n",
        "TNR = TN / (TN + FP) if (TN + FP) != 0 else 0\n",
        "\n",
        "print(f\"\\n True Positive Rate (TPR): {TPR:.4f}\")\n",
        "print(f\" True Negative Rate (TNR): {TNR:.4f}\")\n"
      ],
      "metadata": {
        "trusted": true,
        "execution": {
          "iopub.status.busy": "2025-04-06T14:11:06.444834Z",
          "iopub.execute_input": "2025-04-06T14:11:06.445185Z",
          "iopub.status.idle": "2025-04-06T14:11:07.170657Z",
          "shell.execute_reply.started": "2025-04-06T14:11:06.445156Z",
          "shell.execute_reply": "2025-04-06T14:11:07.16992Z"
        },
        "id": "TU5jhwpAdotU",
        "outputId": "4926555f-d149-4491-f9ae-89d4d0cdb888"
      },
      "outputs": [
        {
          "name": "stdout",
          "text": "\u001b[1m216/216\u001b[0m \u001b[32m━━━━━━━━━━━━━━━━━━━━\u001b[0m\u001b[37m\u001b[0m \u001b[1m1s\u001b[0m 3ms/step\n LSTM Accuracy on Rejected Samples: 0.95703125\n\n LSTM Classification Report on Rejected Samples:\n              precision    recall  f1-score   support\n\n           0       0.92      0.99      0.95      2873\n           1       0.99      0.94      0.96      4039\n\n    accuracy                           0.96      6912\n   macro avg       0.95      0.96      0.96      6912\nweighted avg       0.96      0.96      0.96      6912\n\n\n True Positive Rate (TPR): 0.9364\n True Negative Rate (TNR): 0.9861\n",
          "output_type": "stream"
        }
      ],
      "execution_count": null
    },
    {
      "cell_type": "code",
      "source": [],
      "metadata": {
        "trusted": true,
        "id": "nQ-jxAYEdotU"
      },
      "outputs": [],
      "execution_count": null
    }
  ]
}